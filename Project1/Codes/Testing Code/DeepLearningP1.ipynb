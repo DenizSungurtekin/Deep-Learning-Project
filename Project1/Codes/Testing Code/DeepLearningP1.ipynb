{
  "nbformat": 4,
  "nbformat_minor": 0,
  "metadata": {
    "colab": {
      "name": "DeepLearningP1.ipynb",
      "provenance": [],
      "collapsed_sections": []
    },
    "kernelspec": {
      "name": "python3",
      "display_name": "Python 3"
    },
    "language_info": {
      "name": "python"
    }
  },
  "cells": [
    {
      "cell_type": "code",
      "metadata": {
        "id": "5ZIg6qLQCkQ5"
      },
      "source": [
        "import torch\n",
        "from torch import nn\n",
        "import dlc_pratical_prologue as prologue"
      ],
      "execution_count": 8,
      "outputs": []
    },
    {
      "cell_type": "markdown",
      "metadata": {
        "id": "6S7Ddk31C5PE"
      },
      "source": [
        "## Data set\n"
      ]
    },
    {
      "cell_type": "code",
      "metadata": {
        "id": "SSbCT8p9C_jP"
      },
      "source": [
        "N = 10\n",
        "train_input, train_target, train_classes, test_input, test_target, test_classes = prologue.generate_pair_sets(N)"
      ],
      "execution_count": 20,
      "outputs": []
    },
    {
      "cell_type": "code",
      "metadata": {
        "colab": {
          "base_uri": "https://localhost:8080/"
        },
        "id": "piCYIcm5JmCa",
        "outputId": "6c08abfa-7ff1-46d8-b172-bdb97665ac31"
      },
      "source": [
        "# Double checking\n",
        "print(\"Training Set\")\n",
        "print(train_pairs.size())\n",
        "print(train_target.size())\n",
        "print(train_target.size())\n",
        "print(\"-------------------\")\n",
        "print(\"Testing Set\")\n",
        "print(test_input.size())\n",
        "print(test_target.size())\n",
        "print(test_classes.size())"
      ],
      "execution_count": 21,
      "outputs": [
        {
          "output_type": "stream",
          "name": "stdout",
          "text": [
            "Training Set\n",
            "torch.Size([10, 2, 14, 14])\n",
            "torch.Size([10])\n",
            "torch.Size([10])\n",
            "-------------------\n",
            "Testing Set\n",
            "torch.Size([10, 2, 14, 14])\n",
            "torch.Size([10])\n",
            "torch.Size([10, 2])\n"
          ]
        }
      ]
    },
    {
      "cell_type": "markdown",
      "metadata": {
        "id": "Iei7sYugDAC1"
      },
      "source": [
        "## Helping functions"
      ]
    },
    {
      "cell_type": "code",
      "metadata": {
        "id": "-aJqi4xbDnaH"
      },
      "source": [
        "\"\"\"\n",
        "Input :-\n",
        "\n",
        "model : Pytorch NN model\n",
        "input_data : Tensor of N X 2 X 14 X 14\n",
        "target_data : Tensor of N X 1\n",
        "batch_size : Size of the batch\n",
        "\n",
        "-----------------------------------\n",
        "\n",
        "Output :-\n",
        "\n",
        "The number of samples not well classified\n",
        "\"\"\"\n",
        "def compute_erros(model,\n",
        "                  input_data,target_data,\n",
        "                  batch_size = 100):\n",
        "  nb_errors = 0\n",
        "  for inputs,targets in zip(input_data.split(batch_size),target_data.split(batch_size)):\n",
        "    outputs = model(inputs)\n",
        "    outputs = output.narrow(dim=1,start=0,length=1)\n",
        "    outputs = torch.ge(output,0.5).float()\n",
        "    for k in range(len(targets)):\n",
        "            if outputs[k] != targets[k]:\n",
        "                nb_errors += 1\n",
        "    return nb_errors\n",
        "\n",
        "\"\"\"\n",
        "Input :-\n",
        "\n",
        "model : Pytorch NN model\n",
        "train_input : Tensor of N x 2 x 14 x 14\n",
        "train_target : Tensor of N x 1\n",
        "train_classes : Tensor of N x 2\n",
        "\n",
        "test_input : Tensor of N x 2 x 14 x 14\n",
        "test_target : Tensor of N x 1\n",
        "test_classes : Tensor of N x 2\n",
        "\n",
        "batch_size : Size of the batch\n",
        "\n",
        "-----------------------------------\n",
        "\n",
        "Output :-\n",
        "\n",
        "The number of samples not well classified\n",
        "\n",
        "\"\"\"\n",
        "def training_model(model,\n",
        "                   train_input,train_target,train_classes,\n",
        "                   test_input,test_target,test_classes,\n",
        "                   batch_size = 50):\n",
        "  return True\n",
        "  \n",
        "\n"
      ],
      "execution_count": 6,
      "outputs": []
    },
    {
      "cell_type": "markdown",
      "metadata": {
        "id": "DtWUlBicKfIO"
      },
      "source": [
        "## Models"
      ]
    },
    {
      "cell_type": "code",
      "metadata": {
        "id": "zbmU0CZBKeef"
      },
      "source": [
        "#Net1\n",
        "#Net2\n",
        "#Net3\n",
        "#Net4"
      ],
      "execution_count": null,
      "outputs": []
    }
  ]
}