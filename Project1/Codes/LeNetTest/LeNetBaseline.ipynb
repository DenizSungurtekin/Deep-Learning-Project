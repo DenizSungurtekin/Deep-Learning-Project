{
 "cells": [
  {
   "cell_type": "code",
   "execution_count": 112,
   "metadata": {},
   "outputs": [],
   "source": [
    "import torch\n",
    "from torch import tensor, nn\n",
    "from loading_datas import  generate_pair_sets\n",
    "import torch.nn.functional as F\n",
    "\n"
   ]
  },
  {
   "cell_type": "code",
   "execution_count": 113,
   "metadata": {},
   "outputs": [],
   "source": [
    "\n",
    "train_pairs, train_target, train_classes, test_pairs, test_target, test_classes = generate_pair_sets(1000)"
   ]
  },
  {
   "cell_type": "code",
   "execution_count": 114,
   "metadata": {},
   "outputs": [],
   "source": [
    "# LeNET\n",
    "class LeNet5(nn.Module):\n",
    "\n",
    "    def __init__(self, n_classes):\n",
    "        super(LeNet5, self).__init__()\n",
    "        \n",
    "        self.feature_extractor1 = nn.Sequential(\n",
    "            nn.Conv2d(in_channels=2, out_channels=6, kernel_size=3, stride=1),\n",
    "            nn.Tanh(),\n",
    "            nn.AvgPool2d(kernel_size=2)\n",
    "        )\n",
    "\n",
    "        self.feature_extractor2 = nn.Sequential(\n",
    "            nn.Conv2d(in_channels=6, out_channels=16, kernel_size=3, stride=1),\n",
    "            nn.Tanh(),\n",
    "            nn.AvgPool2d(kernel_size=2)\n",
    "        )\n",
    "\n",
    "        self.feature_extractor3 = nn.Sequential(\n",
    "            nn.Conv2d(in_channels=16, out_channels=120, kernel_size=2, stride=1),\n",
    "            nn.Tanh()\n",
    "        )\n",
    "\n",
    "        self.classifier1 = nn.Sequential(\n",
    "            nn.Linear(in_features=216, out_features=84),\n",
    "            nn.Tanh(),\n",
    "            nn.Linear(in_features=84, out_features=n_classes),\n",
    "        )\n",
    "        self.classifier2 = nn.Sequential(\n",
    "            nn.Linear(in_features=16, out_features=n_classes),\n",
    "        )\n",
    "        self.classifier3 = nn.Sequential(\n",
    "            nn.Linear(in_features=120, out_features=84),\n",
    "            nn.Tanh(),\n",
    "            nn.Linear(in_features=84, out_features=n_classes),\n",
    "        )\n",
    "\n",
    "\n",
    "    def forward(self, x):\n",
    "        x1 = self.feature_extractor1(x)\n",
    "        # x11 = torch.flatten(x1, 1)\n",
    "     \n",
    "        x11 = self.classifier1(x1.flatten(1))\n",
    "        \n",
    "        # logits1 = self.classifier3(x11_flat)\n",
    "        probs1 = F.softmax(x11, dim=1)\n",
    "        # print(x1.shape)\n",
    "        x2 = self.feature_extractor2(x1)\n",
    "        # x22 = self.classifier2(x2.detach().clone())\n",
    "        # print(x2.shape)\n",
    "        x3 = self.feature_extractor3(x2)\n",
    "        # print(x3.shape)\n",
    "        x = torch.flatten(x3, 1)\n",
    "        logits3 = self.classifier3(x)\n",
    "        probs3 = F.softmax(logits3, dim=1)\n",
    "        return probs1, probs3\n",
    " "
   ]
  },
  {
   "cell_type": "code",
   "execution_count": 115,
   "metadata": {},
   "outputs": [],
   "source": [
    "lr, nb_epochs, batch_size = 1e-1, 1000, 1000\n",
    "model = LeNet5(2)\n",
    "optimizer = torch.optim.SGD(model.parameters(), lr = lr)\n",
    "criterion = nn.CrossEntropyLoss()\n",
    "for e in range(nb_epochs):\n",
    "    for input, targets in zip(train_pairs.split(batch_size), train_target.split(batch_size)):\n",
    "        output0, output1 = model(input)\n",
    "        loss0 = criterion(output0, targets)\n",
    "        loss1 = criterion(output1, targets)\n",
    "        # print(loss)\n",
    "        loss = loss0 + loss1\n",
    "        optimizer.zero_grad()\n",
    "        loss.backward()\n",
    "        \n",
    "    optimizer.step()"
   ]
  },
  {
   "cell_type": "code",
   "execution_count": 116,
   "metadata": {},
   "outputs": [],
   "source": [
    "output = model(test_pairs)[1]"
   ]
  },
  {
   "cell_type": "code",
   "execution_count": 117,
   "metadata": {},
   "outputs": [
    {
     "name": "stdout",
     "output_type": "stream",
     "text": [
      "225\n"
     ]
    }
   ],
   "source": [
    "error = 0\n",
    "\n",
    "for i in range(1000):\n",
    "    if torch.argmax(output[i]) != torch.argmax(test_target[i]):\n",
    "        error += 1\n",
    "\n",
    "print(error)"
   ]
  }
 ],
 "metadata": {
  "interpreter": {
   "hash": "7ba3a57230124009c6424c7ef190e9e1af0f7e50ef2b850056b2994b0610e57d"
  },
  "kernelspec": {
   "display_name": "Python 3.9.0 64-bit",
   "name": "python3"
  },
  "language_info": {
   "codemirror_mode": {
    "name": "ipython",
    "version": 3
   },
   "file_extension": ".py",
   "mimetype": "text/x-python",
   "name": "python",
   "nbconvert_exporter": "python",
   "pygments_lexer": "ipython3",
   "version": "3.9.6"
  },
  "orig_nbformat": 4
 },
 "nbformat": 4,
 "nbformat_minor": 2
}
