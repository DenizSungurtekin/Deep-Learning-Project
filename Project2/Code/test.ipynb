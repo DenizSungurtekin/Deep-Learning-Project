{
 "cells": [
  {
   "cell_type": "code",
   "execution_count": null,
   "metadata": {},
   "outputs": [],
   "source": [
    "#Example of initialisation \n",
    "\n",
    "import framework as fw\n",
    "import torch as t\n",
    "import test as test\n",
    "\n",
    "x_train,y_train,x_test,y_test = test.generateData() #Generate the data"
   ]
  },
  {
   "cell_type": "code",
   "execution_count": null,
   "metadata": {},
   "outputs": [],
   "source": [
    "nn = fw.NeuralNetwork()  #Initialize and train your model\n",
    "\n",
    "batch_size = 50\n",
    "epochs = 50000\n",
    "l_rate = 0.0001\n",
    "\n",
    "nn.add(nn.Linear(2,25),nn.tanH(),nn.Linear(25,25),nn.reLU(),nn.Linear(25,1),nn.reLU()) \n",
    "nn.train(x_train,y_train,batch_size,epochs,l_rate)"
   ]
  },
  {
   "cell_type": "code",
   "execution_count": null,
   "metadata": {},
   "outputs": [],
   "source": [
    "nn.saveModel(nn,\"MonModel\") # Save your model"
   ]
  }
 ],
 "metadata": {
  "kernelspec": {
   "display_name": "Python 3",
   "language": "python",
   "name": "python3"
  },
  "language_info": {
   "codemirror_mode": {
    "name": "ipython",
    "version": 3
   },
   "file_extension": ".py",
   "mimetype": "text/x-python",
   "name": "python",
   "nbconvert_exporter": "python",
   "pygments_lexer": "ipython3",
   "version": "3.8.2"
  }
 },
 "nbformat": 4,
 "nbformat_minor": 4
}
