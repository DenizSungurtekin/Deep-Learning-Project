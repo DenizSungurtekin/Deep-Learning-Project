{
 "cells": [
  {
   "cell_type": "code",
   "execution_count": null,
   "metadata": {},
   "outputs": [],
   "source": [
    "import framework as fw\n",
    "import torch as t\n",
    "import math as m\n",
    "import copy as c\n",
    "\n",
    "# Generating x test and train set\n",
    "x_train = t.rand((1000,2))\n",
    "x_test = t.rand((1000,2))\n",
    "\n",
    "# Generate y test and train set\n",
    "radius = 1/((2*m.pi)**(1/2))\n",
    "limit_up = 0.5+radius\n",
    "limit_down = 0.5-radius\n",
    "y_train = t.tensor([0 if ((pair[0]>limit_up or pair[1]>limit_up) or (pair[0]<limit_down or pair[1]<limit_down)) else 1 for pair in x_train])\n",
    "y_train = y_train.view(y_train.size()[0],1) #training y must be in size (n,1) and not (n)\n",
    "y_test = t.tensor([0 if ((pair[0]>limit_up or pair[1]>limit_up) or (pair[0]<limit_down or pair[1]<limit_down)) else 1 for pair in x_test])\n",
    "y_test = y_test.view(y_train.size()[0],1)\n",
    "\n"
   ]
  },
  {
   "cell_type": "code",
   "execution_count": null,
   "metadata": {},
   "outputs": [],
   "source": [
    "\n",
    "# x_train2 = c.deepcopy(x_train)\n",
    "# x_train2.requires_grad=False\n",
    "\n",
    "# nn = fw.NeuralNetwork()\n",
    "# nn.add(nn.Linear(2,25),nn.reLU(),nn.Linear(25,1),nn.reLU()) #2-25-1\n",
    "\n",
    "# nn.train(x_train2,y_train,1000,1)\n",
    "\n",
    "y = nn.forward(x_train2)\n",
    "x_train = t.transpose(x_train,0,1)\n",
    "#The next two cells are used to compare the gradient obtained by pytorch to ours\n",
    "\n",
    "\n",
    "\n",
    "# m = t.nn.ReLU()\n",
    "# weigth1 = c.deepcopy(nn.operations[0].weights)\n",
    "# weigth2 = c.deepcopy(nn.operations[2].weights)\n",
    "# bias1 = c.deepcopy(nn.operations[0].bias)\n",
    "# # print(\"a\",bias1)\n",
    "# bias2 = c.deepcopy(nn.operations[2].bias)\n",
    "\n",
    "# weigth1.requires_grad_()\n",
    "# weigth2.requires_grad_()\n",
    "\n",
    "# bias1.requires_grad_()\n",
    "# bias2.requires_grad_()\n",
    "\n",
    "# output1 = t.add(t.matmul(weigth1,x_train),bias1)\n",
    "# output2 = m(output1)\n",
    "# output3 = t.add(t.matmul(weigth2,output2),bias2)\n",
    "# output4 = m(output3)\n",
    "\n",
    "# mse = t.nn.MSELoss()\n",
    "# y_train = t.transpose(y_train,0,1)\n",
    "# y_train = y_train.to(t.float)\n",
    "# loss = mse(output4,y_train)\n",
    "\n",
    "# #with one update check\n",
    "# # weigth1 -= 0.001*weigth1.grad\n",
    "# # weigth2 -= 0.001*weigth2.grad\n",
    "# # bias1 -= 0.001*bias1.grad\n",
    "# # bias2 -= 0.001*bias2.grad\n",
    "\n",
    "# # output1 = t.add(t.matmul(weigth1,x_train),bias1)\n",
    "# # output2 = m(output1)\n",
    "# # output3 = t.add(t.matmul(weigth2,output2),bias2)\n",
    "# # output4 = m(output3)\n",
    "\n",
    "# loss.backward()\n",
    "# print(\"pytorch grad: w1 \",t.transpose(weigth1.grad,0,1))\n",
    "# print(\"pytorch grad: w2 \",weigth2.grad)\n",
    "# print(\"pytorch grad: b1 \",bias1.grad)\n",
    "# print(\"pytorch grad b2: \",bias2.grad[0][0:25])"
   ]
  },
  {
   "cell_type": "code",
   "execution_count": null,
   "metadata": {},
   "outputs": [],
   "source": [
    "# y_train = t.transpose(y_train,0,1)\n",
    "# nn.train(x_train2,y_train,1000,1)"
   ]
  },
  {
   "cell_type": "code",
   "execution_count": null,
   "metadata": {},
   "outputs": [],
   "source": [
    "#Cell to try differents models:\n",
    "nn = fw.NeuralNetwork()\n",
    "nn.add(nn.Linear(2,25),nn.reLU(),nn.Linear(25,25),nn.tanH(),nn.Linear(25,1),nn.reLU())\n",
    "\n",
    "nn.train(x_train,y_train,1000,6000,0.02)\n",
    "\n",
    "y = nn.forward(x_test)\n",
    "print(\"ytrain \",t.transpose(y_train[0:20],0,1))\n",
    "print(\"ytest: \",t.transpose(y_test[0:20],0,1))\n",
    "print(\"pred: \",y[0][0:20])\n",
    "print(\"round: \",nn.round(y)[0][0:20])\n",
    "\n"
   ]
  },
  {
   "cell_type": "code",
   "execution_count": null,
   "metadata": {},
   "outputs": [],
   "source": [
    "print(x_train[0:5])\n",
    "print(x_test[0:5])\n",
    "\n",
    "nn.computeAcc(x_train,y_train,batch_size)\n",
    "nn.computeAcc(x_test,y_test,batch_size)"
   ]
  },
  {
   "cell_type": "code",
   "execution_count": null,
   "metadata": {},
   "outputs": [],
   "source": [
    "nn2 = fw.NeuralNetwork()\n",
    "batch_size = 100\n",
    "epochs = 50000\n",
    "l_rate = 0.0001\n",
    "# nn2.add(nn2.Linear(2,25),nn2.tanH(),nn2.Linear(25,25),nn2.tanH(),nn2.Linear(25,1),nn2.reLU())\n",
    "\n",
    "nn2.add(nn2.Linear(2,25),nn2.tanH(),nn2.Linear(25,25),nn2.reLU(),nn2.Linear(25,1),nn2.reLU()) #pas mal mais semble overfit rapidement\n",
    "nn2.train(x_train,y_train,batch_size,epochs,l_rate)\n",
    "\n"
   ]
  },
  {
   "cell_type": "code",
   "execution_count": null,
   "metadata": {},
   "outputs": [],
   "source": [
    "print(x_train[0:5])\n",
    "print(x_test[0:5])\n",
    "\n",
    "nn2.computeAcc(x_train,y_train,batch_size)\n",
    "nn2.computeAcc(x_test,y_test,batch_size)"
   ]
  },
  {
   "cell_type": "code",
   "execution_count": null,
   "metadata": {},
   "outputs": [],
   "source": []
  }
 ],
 "metadata": {
  "kernelspec": {
   "display_name": "Python 3",
   "language": "python",
   "name": "python3"
  },
  "language_info": {
   "codemirror_mode": {
    "name": "ipython",
    "version": 3
   },
   "file_extension": ".py",
   "mimetype": "text/x-python",
   "name": "python",
   "nbconvert_exporter": "python",
   "pygments_lexer": "ipython3",
   "version": "3.8.2"
  }
 },
 "nbformat": 4,
 "nbformat_minor": 4
}
